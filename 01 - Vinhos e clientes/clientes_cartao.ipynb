{
  "nbformat": 4,
  "nbformat_minor": 0,
  "metadata": {
    "colab": {
      "provenance": [],
      "authorship_tag": "ABX9TyNiPXGZq2A7BLORdZGjKOZP",
      "include_colab_link": true
    },
    "kernelspec": {
      "name": "python3",
      "display_name": "Python 3"
    },
    "language_info": {
      "name": "python"
    }
  },
  "cells": [
    {
      "cell_type": "markdown",
      "metadata": {
        "id": "view-in-github",
        "colab_type": "text"
      },
      "source": [
        "<a href=\"https://colab.research.google.com/github/laysabelici/databricks/blob/main/clientes_cartao.ipynb\" target=\"_parent\"><img src=\"https://colab.research.google.com/assets/colab-badge.svg\" alt=\"Open In Colab\"/></a>"
      ]
    },
    {
      "cell_type": "code",
      "execution_count": null,
      "metadata": {
        "id": "Bu30lV66obUe"
      },
      "outputs": [],
      "source": [
        "%python\n",
        "clientes = spark.read.format('csv').options(header='true',\n",
        "inferSchema='true',\n",
        "delimiter=';').load('/FileStore/tables/carga/clientes_cartao.c\n",
        "sv')\n",
        "display(clientes)"
      ]
    }
  ]
}

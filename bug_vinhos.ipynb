{
  "nbformat": 4,
  "nbformat_minor": 0,
  "metadata": {
    "colab": {
      "provenance": [],
      "authorship_tag": "ABX9TyNIMlq0l9V/QRjpvKOPDYNy",
      "include_colab_link": true
    },
    "kernelspec": {
      "name": "python3",
      "display_name": "Python 3"
    },
    "language_info": {
      "name": "python"
    }
  },
  "cells": [
    {
      "cell_type": "markdown",
      "metadata": {
        "id": "view-in-github",
        "colab_type": "text"
      },
      "source": [
        "<a href=\"https://colab.research.google.com/github/laysabelici/databricks/blob/main/bug_vinhos.ipynb\" target=\"_parent\"><img src=\"https://colab.research.google.com/assets/colab-badge.svg\" alt=\"Open In Colab\"/></a>"
      ]
    },
    {
      "cell_type": "code",
      "execution_count": null,
      "metadata": {
        "id": "Bu30lV66obUe"
      },
      "outputs": [],
      "source": [
        "Definindo o schema da tabela\n",
        "from pyspark.sql.types import StructType, IntegerType, DateType,\n",
        "StringType, DecimalType, FloatType\n",
        "Record_schema = (StructType().\n",
        "add(\"registro\", StringType()).\n",
        "add(\"pais\", StringType()).\n",
        "add(\"descricao\", StringType()).\n",
        "add(\"destino\",StringType()).\n",
        "add(\"pontos\",FloatType()).\n",
        "add(\"preco\",FloatType()).\n",
        "add(\"provincia\",StringType()).\n",
        "add(\"regiao_1\",StringType()).\n",
        "add(\"regiao_2\",StringType()).\n",
        "add(\"somelier\",StringType()).\n",
        "add(\"twiter_somelier\",StringType()).\n",
        "add(\"endereco\",StringType()).\n",
        "add(\"variante\",StringType()).\n",
        "add(\"vinicola\",StringType())\n",
        ")\n",
        " Carregado o schema da tabela\n",
        "# File location and type\n",
        "file_location = \"/FileStore/tables/carga/vinhos_no_mundo.csv\"\n",
        "file_type = \"csv\"\n",
        "# CSV options\n",
        "infer_schema = \"false\"\n",
        "first_row_is_header = \"true\"\n",
        "delimiter = \",\"\n",
        "# The applied options are for CSV files. For other file types,\n",
        "these will be ignored.\n",
        "df = spark.read.format(file_type).schema(Record_schema) \\\n",
        " .option(\"inferSchema\", infer_schema) \\\n",
        " .option(\"header\", first_row_is_header) \\\n",
        " .option(\"sep\", delimiter) \\\n",
        " .load(file_location)\n",
        "display(df)\n",
        " Criando a visão temporária\n",
        "# Create a view or table\n",
        "temp_table_name = \"vinhos_no_mundo_csv\"\n",
        "df.createOrReplaceTempView(temp_table_name)\n",
        "Executando a consulta via SQL da view temporária\n",
        "%sql\n",
        "/* Query the created temp table in a SQL cell */\n",
        "select * from `vinhos_no_mundo_csv`\n",
        "#Criando a tabela permanente\n",
        "permanent_table_name = \"vinho\"\n",
        "df.write.format(\"parquet\").saveAsTable(permanent_table_name)"
      ]
    }
  ]
}